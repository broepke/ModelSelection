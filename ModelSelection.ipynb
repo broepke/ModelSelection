{
 "cells": [
  {
   "cell_type": "code",
   "execution_count": 42,
   "metadata": {},
   "outputs": [
    {
     "name": "stderr",
     "output_type": "stream",
     "text": [
      "/Users/brianroepke/miniforge3/envs/ML/lib/python3.9/site-packages/xgboost/compat.py:36: FutureWarning: pandas.Int64Index is deprecated and will be removed from pandas in a future version. Use pandas.Index with the appropriate dtype instead.\n",
      "  from pandas import MultiIndex, Int64Index\n"
     ]
    }
   ],
   "source": [
    "import numpy as np\n",
    "import pandas as pd\n",
    "import seaborn as sns\n",
    "import matplotlib.pyplot as plt\n",
    "from timeit import timeit\n",
    "from joblib import dump, load\n",
    "\n",
    "from sklearn.metrics import classification_report, plot_confusion_matrix, balanced_accuracy_score\n",
    "from sklearn.metrics import roc_auc_score, roc_curve, precision_recall_curve, auc\n",
    "from sklearn.model_selection import cross_val_score, train_test_split, KFold, RepeatedStratifiedKFold\n",
    "from sklearn.feature_selection import chi2, SelectKBest\n",
    "from sklearn.dummy import DummyClassifier\n",
    "from sklearn.preprocessing import OneHotEncoder, LabelEncoder, OrdinalEncoder\n",
    "from sklearn.preprocessing import MinMaxScaler\n",
    "from sklearn.compose import make_column_transformer, ColumnTransformer\n",
    "from sklearn.preprocessing import StandardScaler\n",
    "\n",
    "from sklearn.linear_model import LogisticRegression, Perceptron, SGDClassifier\n",
    "from sklearn.tree import DecisionTreeClassifier\n",
    "from sklearn.ensemble import RandomForestClassifier, GradientBoostingClassifier, AdaBoostClassifier, ExtraTreesClassifier\n",
    "from sklearn.neighbors import KNeighborsClassifier, LocalOutlierFactor\n",
    "from sklearn.svm import LinearSVC\n",
    "from sklearn.cluster import KMeans\n",
    "\n",
    "from sklearn.compose import make_column_selector as selector\n",
    "from sklearn.pipeline import Pipeline\n",
    "\n",
    "import xgboost"
   ]
  },
  {
   "cell_type": "code",
   "execution_count": 2,
   "metadata": {},
   "outputs": [],
   "source": [
    "df = pd.read_csv(\"bank.csv\", delimiter=\";\")"
   ]
  },
  {
   "cell_type": "code",
   "execution_count": 3,
   "metadata": {},
   "outputs": [
    {
     "name": "stdout",
     "output_type": "stream",
     "text": [
      "<class 'pandas.core.frame.DataFrame'>\n",
      "RangeIndex: 4521 entries, 0 to 4520\n",
      "Data columns (total 17 columns):\n",
      " #   Column     Non-Null Count  Dtype \n",
      "---  ------     --------------  ----- \n",
      " 0   age        4521 non-null   int64 \n",
      " 1   job        4521 non-null   object\n",
      " 2   marital    4521 non-null   object\n",
      " 3   education  4521 non-null   object\n",
      " 4   default    4521 non-null   object\n",
      " 5   balance    4521 non-null   int64 \n",
      " 6   housing    4521 non-null   object\n",
      " 7   loan       4521 non-null   object\n",
      " 8   contact    4521 non-null   object\n",
      " 9   day        4521 non-null   int64 \n",
      " 10  month      4521 non-null   object\n",
      " 11  duration   4521 non-null   int64 \n",
      " 12  campaign   4521 non-null   int64 \n",
      " 13  pdays      4521 non-null   int64 \n",
      " 14  previous   4521 non-null   int64 \n",
      " 15  poutcome   4521 non-null   object\n",
      " 16  y          4521 non-null   object\n",
      "dtypes: int64(7), object(10)\n",
      "memory usage: 600.6+ KB\n"
     ]
    }
   ],
   "source": [
    "df.info()"
   ]
  },
  {
   "cell_type": "code",
   "execution_count": 4,
   "metadata": {},
   "outputs": [
    {
     "data": {
      "text/plain": [
       "False"
      ]
     },
     "execution_count": 4,
     "metadata": {},
     "output_type": "execute_result"
    }
   ],
   "source": [
    "# check for nan/null\n",
    "df.isnull().values.any()"
   ]
  },
  {
   "cell_type": "code",
   "execution_count": 5,
   "metadata": {},
   "outputs": [
    {
     "data": {
      "text/plain": [
       "4521"
      ]
     },
     "execution_count": 5,
     "metadata": {},
     "output_type": "execute_result"
    }
   ],
   "source": [
    "# drop duplicates\n",
    "len(df.drop_duplicates())"
   ]
  },
  {
   "cell_type": "code",
   "execution_count": 6,
   "metadata": {},
   "outputs": [],
   "source": [
    "\n",
    "# duration: last contact duration, in seconds (numeric). Important note: this attribute highly affects the output target (e.g., if duration=0 then y='no'). Yet, the duration is not known before a call is performed. Also, after the end of the call y is obviously known. Thus, this input should only be included for benchmark purposes and should be discarded if the intention is to have a realistic predictive model.\n",
    "df.drop(columns='duration', inplace=True)"
   ]
  },
  {
   "cell_type": "code",
   "execution_count": 20,
   "metadata": {},
   "outputs": [],
   "source": [
    "X = df.iloc[:, :-1]\n",
    "y = df.iloc[:,-1]"
   ]
  },
  {
   "cell_type": "code",
   "execution_count": 21,
   "metadata": {},
   "outputs": [],
   "source": [
    "enc = LabelEncoder()\n",
    "enc.fit(y)\n",
    "y = enc.transform(y)"
   ]
  },
  {
   "cell_type": "code",
   "execution_count": 22,
   "metadata": {},
   "outputs": [],
   "source": [
    "column_trans = ColumnTransformer(transformers=\n",
    "        [('num', MinMaxScaler(), selector(dtype_exclude=\"object\")),\n",
    "        ('cat', OrdinalEncoder(), selector(dtype_include=\"object\"))],\n",
    "        remainder='drop')"
   ]
  },
  {
   "cell_type": "code",
   "execution_count": 46,
   "metadata": {},
   "outputs": [],
   "source": [
    "# get a list of models to evaluate\n",
    "def get_models():\n",
    "    models = dict()\n",
    "    \n",
    "    # Decision Tree\n",
    "    models['LogReg'] = Pipeline([('prep', column_trans), ('model', LogisticRegression(random_state=42, max_iter=1000))])\n",
    "    models['DTree'] = Pipeline([('prep', column_trans), ('model', DecisionTreeClassifier(random_state=42))])\n",
    "    models['RandForest'] = Pipeline([('prep', column_trans), ('model', RandomForestClassifier(random_state=42))])\n",
    "    models['Extra'] = Pipeline([('prep', column_trans), ('model', ExtraTreesClassifier(random_state=42))])\n",
    "    models['GradBoost'] = Pipeline([('prep', column_trans), ('model', GradientBoostingClassifier(random_state=42))])\n",
    "    models['AdaBoost'] = Pipeline([('prep', column_trans), ('model', AdaBoostClassifier(random_state=42))]) \n",
    "    models['XGB'] = Pipeline([('prep', column_trans), ('model', xgboost.XGBRegressor(objective ='reg:linear', verbosity = 0, random_state=42))]) \n",
    "    models['SGD'] = Pipeline([('prep', column_trans), ('model', SGDClassifier(random_state=42))])\n",
    "    models['NN'] = Pipeline([('prep', column_trans), ('model', KNeighborsClassifier(3))])\n",
    "    models['Perceptron'] = Pipeline([('prep', column_trans), ('model', Perceptron(random_state=42))])\n",
    "    return models"
   ]
  },
  {
   "cell_type": "code",
   "execution_count": 47,
   "metadata": {},
   "outputs": [],
   "source": [
    "# evaluate a give model using cross-validation\n",
    "def evaluate_model(model, X, y):\n",
    "    global scores\n",
    "    cv = RepeatedStratifiedKFold(n_splits=5, n_repeats=3, random_state=1)\n",
    "    scores = cross_val_score(model, X, y, scoring='roc_auc', cv=cv, n_jobs=-1)\n",
    "    return scores"
   ]
  },
  {
   "cell_type": "code",
   "execution_count": 48,
   "metadata": {},
   "outputs": [
    {
     "name": "stdout",
     "output_type": "stream",
     "text": [
      "CPU times: user 26.8 ms, sys: 3.65 ms, total: 30.4 ms\n",
      "Wall time: 1.6 s\n",
      "* LogReg Score = 0.679 StdDev = (0.020) \n",
      "\n",
      "CPU times: user 26.9 ms, sys: 3.1 ms, total: 30 ms\n",
      "Wall time: 71.2 ms\n",
      "* DTree Score = 0.582 StdDev = (0.018) \n",
      "\n",
      "CPU times: user 32.7 ms, sys: 3.57 ms, total: 36.3 ms\n",
      "Wall time: 531 ms\n",
      "* RandForest Score = 0.736 StdDev = (0.017) \n",
      "\n",
      "CPU times: user 34.8 ms, sys: 3.66 ms, total: 38.4 ms\n",
      "Wall time: 429 ms\n",
      "* Extra Score = 0.711 StdDev = (0.018) \n",
      "\n",
      "CPU times: user 32.5 ms, sys: 4.41 ms, total: 36.9 ms\n",
      "Wall time: 702 ms\n",
      "* GradBoost Score = 0.744 StdDev = (0.020) \n",
      "\n",
      "CPU times: user 31.3 ms, sys: 3.77 ms, total: 35.1 ms\n",
      "Wall time: 233 ms\n",
      "* AdaBoost Score = 0.733 StdDev = (0.019) \n",
      "\n",
      "CPU times: user 29.5 ms, sys: 3.17 ms, total: 32.7 ms\n",
      "Wall time: 13.6 s\n",
      "* XGB Score = 0.702 StdDev = (0.020) \n",
      "\n",
      "CPU times: user 28.4 ms, sys: 3.34 ms, total: 31.7 ms\n",
      "Wall time: 78.5 ms\n",
      "* SGD Score = 0.615 StdDev = (0.038) \n",
      "\n",
      "CPU times: user 27.3 ms, sys: 3.14 ms, total: 30.4 ms\n",
      "Wall time: 51.6 ms\n",
      "* NN Score = 0.600 StdDev = (0.014) \n",
      "\n",
      "CPU times: user 24.5 ms, sys: 3 ms, total: 27.5 ms\n",
      "Wall time: 45.8 ms\n",
      "* Perceptron Score = 0.611 StdDev = (0.045) \n",
      "\n"
     ]
    },
    {
     "data": {
      "image/png": "[encoded data removed]",
      "text/plain": [
       "<Figure size 720x576 with 1 Axes>"
      ]
     },
     "metadata": {
      "needs_background": "light"
     },
     "output_type": "display_data"
    }
   ],
   "source": [
    "# get the models to evaluate\n",
    "models = get_models()\n",
    "\n",
    "# evaluate the models and store results\n",
    "results, names = list(), list()\n",
    "for name, model in models.items():\n",
    "    %time scores = evaluate_model(model, X, y)\n",
    "    results.append(scores)\n",
    "    names.append(name)\n",
    "    print('* %s Score = %.3f StdDev = (%.3f)' % (name, np.mean(scores), np.std(scores)), '\\n')\n",
    "\n",
    "# plot model performance for comparison\n",
    "plt.figure(figsize=(10,8))\n",
    "plt.boxplot(results, labels=names, showmeans=True)\n",
    "plt.show()"
   ]
  }
 ],
 "metadata": {
  "interpreter": {
   "hash": "3bc6cb94701899e3bf5d255966bdeee82bd3c52ee4f583dec08e492c946e9c62"
  },
  "kernelspec": {
   "display_name": "Python 3.9.12 ('ML')",
   "language": "python",
   "name": "python3"
  },
  "language_info": {
   "codemirror_mode": {
    "name": "ipython",
    "version": 3
   },
   "file_extension": ".py",
   "mimetype": "text/x-python",
   "name": "python",
   "nbconvert_exporter": "python",
   "pygments_lexer": "ipython3",
   "version": "3.9.12"
  },
  "orig_nbformat": 4
 },
 "nbformat": 4,
 "nbformat_minor": 2
}
