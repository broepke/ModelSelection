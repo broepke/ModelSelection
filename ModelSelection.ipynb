{
 "cells": [
  {
   "cell_type": "code",
   "execution_count": 1,
   "metadata": {},
   "outputs": [],
   "source": [
    "import numpy as np\n",
    "import pandas as pd\n",
    "import seaborn as sns\n",
    "import matplotlib.pyplot as plt\n",
    "from timeit import timeit\n",
    "\n",
    "import warnings\n",
    "warnings.filterwarnings('ignore')\n",
    "\n",
    "from sklearn.model_selection import cross_val_score, RepeatedStratifiedKFold\n",
    "from sklearn.preprocessing import OneHotEncoder, LabelEncoder\n",
    "from sklearn.preprocessing import MinMaxScaler\n",
    "from sklearn.compose import ColumnTransformer\n",
    "\n",
    "from sklearn.linear_model import LogisticRegression, Perceptron, SGDClassifier\n",
    "from sklearn.tree import DecisionTreeClassifier\n",
    "from sklearn.ensemble import RandomForestClassifier\n",
    "from sklearn.ensemble import GradientBoostingClassifier\n",
    "from sklearn.ensemble import HistGradientBoostingClassifier\n",
    "from sklearn.ensemble import AdaBoostClassifier\n",
    "from sklearn.ensemble import ExtraTreesClassifier\n",
    "from sklearn.neighbors import KNeighborsClassifier\n",
    "from sklearn.svm import SVC\n",
    "\n",
    "from sklearn.compose import make_column_selector as selector\n",
    "from sklearn.pipeline import Pipeline"
   ]
  },
  {
   "cell_type": "code",
   "execution_count": 2,
   "metadata": {},
   "outputs": [],
   "source": [
    "df = pd.read_csv(\"bank.csv\", delimiter=\";\")"
   ]
  },
  {
   "cell_type": "code",
   "execution_count": 3,
   "metadata": {},
   "outputs": [
    {
     "data": {
      "text/plain": [
       "(4521, 17)"
      ]
     },
     "execution_count": 3,
     "metadata": {},
     "output_type": "execute_result"
    }
   ],
   "source": [
    "df.shape"
   ]
  },
  {
   "cell_type": "code",
   "execution_count": 4,
   "metadata": {},
   "outputs": [
    {
     "name": "stdout",
     "output_type": "stream",
     "text": [
      "<class 'pandas.core.frame.DataFrame'>\n",
      "RangeIndex: 4521 entries, 0 to 4520\n",
      "Data columns (total 17 columns):\n",
      " #   Column     Non-Null Count  Dtype \n",
      "---  ------     --------------  ----- \n",
      " 0   age        4521 non-null   int64 \n",
      " 1   job        4521 non-null   object\n",
      " 2   marital    4521 non-null   object\n",
      " 3   education  4521 non-null   object\n",
      " 4   default    4521 non-null   object\n",
      " 5   balance    4521 non-null   int64 \n",
      " 6   housing    4521 non-null   object\n",
      " 7   loan       4521 non-null   object\n",
      " 8   contact    4521 non-null   object\n",
      " 9   day        4521 non-null   int64 \n",
      " 10  month      4521 non-null   object\n",
      " 11  duration   4521 non-null   int64 \n",
      " 12  campaign   4521 non-null   int64 \n",
      " 13  pdays      4521 non-null   int64 \n",
      " 14  previous   4521 non-null   int64 \n",
      " 15  poutcome   4521 non-null   object\n",
      " 16  y          4521 non-null   object\n",
      "dtypes: int64(7), object(10)\n",
      "memory usage: 600.6+ KB\n"
     ]
    }
   ],
   "source": [
    "df.info()"
   ]
  },
  {
   "cell_type": "code",
   "execution_count": 5,
   "metadata": {},
   "outputs": [
    {
     "data": {
      "text/plain": [
       "False"
      ]
     },
     "execution_count": 5,
     "metadata": {},
     "output_type": "execute_result"
    }
   ],
   "source": [
    "# check for nan/null\n",
    "df.isnull().values.any()"
   ]
  },
  {
   "cell_type": "code",
   "execution_count": 6,
   "metadata": {},
   "outputs": [
    {
     "data": {
      "text/plain": [
       "4521"
      ]
     },
     "execution_count": 6,
     "metadata": {},
     "output_type": "execute_result"
    }
   ],
   "source": [
    "# drop duplicates\n",
    "len(df.drop_duplicates())"
   ]
  },
  {
   "cell_type": "code",
   "execution_count": 7,
   "metadata": {},
   "outputs": [],
   "source": [
    "\n",
    "# duration: last contact duration, in seconds (numeric). Important note: this attribute highly affects the output target (e.g., if duration=0 then y='no'). Yet, the duration is not known before a call is performed. Also, after the end of the call y is obviously known. Thus, this input should only be included for benchmark purposes and should be discarded if the intention is to have a realistic predictive model.\n",
    "df.drop(columns='duration', inplace=True)"
   ]
  },
  {
   "cell_type": "code",
   "execution_count": 8,
   "metadata": {},
   "outputs": [],
   "source": [
    "X = df.iloc[:, :-1]\n",
    "y = df.iloc[:,-1]"
   ]
  },
  {
   "cell_type": "code",
   "execution_count": 9,
   "metadata": {},
   "outputs": [],
   "source": [
    "enc = LabelEncoder()\n",
    "enc.fit(y)\n",
    "y = enc.transform(y)"
   ]
  },
  {
   "cell_type": "code",
   "execution_count": 10,
   "metadata": {},
   "outputs": [],
   "source": [
    "column_trans = ColumnTransformer(transformers=\n",
    "        [('num', MinMaxScaler(), selector(dtype_exclude=\"object\")),\n",
    "        ('cat', OneHotEncoder(), selector(dtype_include=\"object\"))],\n",
    "        remainder='drop')"
   ]
  },
  {
   "cell_type": "code",
   "execution_count": 11,
   "metadata": {},
   "outputs": [],
   "source": [
    "def get_models():\n",
    "    models = dict()\n",
    "    \n",
    "    models['Logistic Regression'] = Pipeline([('prep', column_trans), \n",
    "                                              ('model', LogisticRegression(random_state=42, max_iter=1000, class_weight='balanced'))])\n",
    "    \n",
    "    models['Decision Tree'] = Pipeline([('prep', column_trans), \n",
    "                                        ('model', DecisionTreeClassifier(random_state=42, class_weight='balanced'))])\n",
    "    \n",
    "    models['Random Forest'] = Pipeline([('prep', column_trans), \n",
    "                                        ('model', RandomForestClassifier(random_state=42, class_weight='balanced'))])\n",
    "    \n",
    "    models['Extra Trees'] = Pipeline([('prep', column_trans), \n",
    "                                      ('model', ExtraTreesClassifier(random_state=42, class_weight='balanced'))])\n",
    "    \n",
    "    models['Gradient Boosting'] = Pipeline([('prep', column_trans), \n",
    "                                            ('model', GradientBoostingClassifier(random_state=42))])\n",
    "    \n",
    "    models['Hist Gradient Boosting'] = Pipeline([('prep', column_trans), \n",
    "                                                 ('model', HistGradientBoostingClassifier(random_state=42))])\n",
    "    \n",
    "    models['AdaBoost'] = Pipeline([('prep', column_trans), \n",
    "                                   ('model', AdaBoostClassifier(random_state=42))]) \n",
    "    \n",
    "    models['SGD'] = Pipeline([('prep', column_trans), \n",
    "                              ('model', SGDClassifier(random_state=42, class_weight='balanced'))])\n",
    "    \n",
    "    models['SVC'] = Pipeline([('prep', column_trans), \n",
    "                              ('model', SVC(class_weight='balanced', random_state=42))])\n",
    "    \n",
    "    models['Nearest Neighbor'] = Pipeline([('prep', column_trans), \n",
    "                                           ('model', KNeighborsClassifier(3))])\n",
    "    \n",
    "    models['Perceptron'] = Pipeline([('prep', column_trans), \n",
    "                                     ('model', Perceptron(random_state=42))])\n",
    "    \n",
    "    return models"
   ]
  },
  {
   "cell_type": "code",
   "execution_count": 12,
   "metadata": {},
   "outputs": [],
   "source": [
    "# evaluate a give model using cross-validation\n",
    "def evaluate_model(model, X, y):\n",
    "    cv = RepeatedStratifiedKFold(n_splits=5, n_repeats=10, random_state=1)\n",
    "    scores = cross_val_score(model, X, y, scoring='roc_auc', cv=cv, n_jobs=-1)\n",
    "    return scores"
   ]
  },
  {
   "cell_type": "code",
   "execution_count": 13,
   "metadata": {},
   "outputs": [
    {
     "name": "stdout",
     "output_type": "stream",
     "text": [
      "CPU times: user 158 ms, sys: 72.5 ms, total: 231 ms\n",
      "Wall time: 1.91 s\n",
      "* Logistic Regression Score = 0.721 StdDev = (0.025) \n",
      "\n",
      "CPU times: user 92.4 ms, sys: 11 ms, total: 103 ms\n",
      "Wall time: 218 ms\n",
      "* Decision Tree Score = 0.573 StdDev = (0.021) \n",
      "\n",
      "CPU times: user 169 ms, sys: 17.6 ms, total: 187 ms\n",
      "Wall time: 1.64 s\n",
      "* Random Forest Score = 0.730 StdDev = (0.024) \n",
      "\n",
      "CPU times: user 146 ms, sys: 15.3 ms, total: 161 ms\n",
      "Wall time: 1.76 s\n",
      "* Extra Trees Score = 0.701 StdDev = (0.021) \n",
      "\n",
      "CPU times: user 145 ms, sys: 14.6 ms, total: 160 ms\n",
      "Wall time: 2.46 s\n",
      "* Gradient Boosting Score = 0.756 StdDev = (0.021) \n",
      "\n",
      "CPU times: user 183 ms, sys: 16.7 ms, total: 200 ms\n",
      "Wall time: 1.85 s\n",
      "* Hist Gradient Boosting Score = 0.728 StdDev = (0.021) \n",
      "\n",
      "CPU times: user 121 ms, sys: 12.6 ms, total: 133 ms\n",
      "Wall time: 803 ms\n",
      "* AdaBoost Score = 0.733 StdDev = (0.023) \n",
      "\n",
      "CPU times: user 104 ms, sys: 10.7 ms, total: 115 ms\n",
      "Wall time: 197 ms\n",
      "* SGD Score = 0.690 StdDev = (0.031) \n",
      "\n",
      "CPU times: user 158 ms, sys: 16.6 ms, total: 174 ms\n",
      "Wall time: 3.64 s\n",
      "* SVC Score = 0.715 StdDev = (0.027) \n",
      "\n",
      "CPU times: user 108 ms, sys: 11.4 ms, total: 119 ms\n",
      "Wall time: 583 ms\n",
      "* Nearest Neighbor Score = 0.608 StdDev = (0.022) \n",
      "\n",
      "CPU times: user 80.6 ms, sys: 8.63 ms, total: 89.2 ms\n",
      "Wall time: 124 ms\n",
      "* Perceptron Score = 0.639 StdDev = (0.043) \n",
      "\n"
     ]
    },
    {
     "data": {
      "image/png": "[encoded data removed]",
      "text/plain": [
       "<Figure size 720x576 with 1 Axes>"
      ]
     },
     "metadata": {
      "needs_background": "light"
     },
     "output_type": "display_data"
    }
   ],
   "source": [
    "# get the models to evaluate\n",
    "models = get_models()\n",
    "\n",
    "# evaluate the models and store results\n",
    "results, names, time = list(), list(), list()\n",
    "for name, model in models.items():\n",
    "    %time scores = evaluate_model(model, X, y)\n",
    "    results.append(scores)\n",
    "    names.append(name)\n",
    "    print('* %s Score = %.3f StdDev = (%.3f)' % (name, np.mean(scores), np.std(scores)), '\\n')\n",
    "\n",
    "# plot model performance for comparison\n",
    "plt.figure(figsize=(10,8))\n",
    "plt.boxplot(results, labels=names, showmeans=True)\n",
    "plt.xticks(rotation=45)\n",
    "plt.tight_layout()\n",
    "plt.savefig('modelselection_01.png', dpi=300)"
   ]
  }
 ],
 "metadata": {
  "interpreter": {
   "hash": "3bc6cb94701899e3bf5d255966bdeee82bd3c52ee4f583dec08e492c946e9c62"
  },
  "kernelspec": {
   "display_name": "Python 3.9.12 ('ML')",
   "language": "python",
   "name": "python3"
  },
  "language_info": {
   "codemirror_mode": {
    "name": "ipython",
    "version": 3
   },
   "file_extension": ".py",
   "mimetype": "text/x-python",
   "name": "python",
   "nbconvert_exporter": "python",
   "pygments_lexer": "ipython3",
   "version": "3.9.12"
  },
  "orig_nbformat": 4
 },
 "nbformat": 4,
 "nbformat_minor": 2
}
